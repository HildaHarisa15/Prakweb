{
  "nbformat": 4,
  "nbformat_minor": 0,
  "metadata": {
    "colab": {
      "name": "Code GMEET.ipynb",
      "provenance": [],
      "authorship_tag": "ABX9TyNRD10q7+hRoeVGUDp1Ppvm",
      "include_colab_link": true
    },
    "kernelspec": {
      "name": "python3",
      "display_name": "Python 3"
    },
    "language_info": {
      "name": "python"
    }
  },
  "cells": [
    {
      "cell_type": "markdown",
      "metadata": {
        "id": "view-in-github",
        "colab_type": "text"
      },
      "source": [
        "<a href=\"https://colab.research.google.com/github/HildaHarisa15/Prakweb/blob/master/Code_GMEET.ipynb\" target=\"_parent\"><img src=\"https://colab.research.google.com/assets/colab-badge.svg\" alt=\"Open In Colab\"/></a>"
      ]
    },
    {
      "cell_type": "markdown",
      "source": [
        "# Data Collection"
      ],
      "metadata": {
        "id": "4WR3gl2C6iFB"
      }
    },
    {
      "cell_type": "markdown",
      "source": [
        "Play Scrapper"
      ],
      "metadata": {
        "id": "6ZEYWnz276Yt"
      }
    },
    {
      "cell_type": "code",
      "execution_count": null,
      "metadata": {
        "id": "RBx8eKY-6Z3w"
      },
      "outputs": [],
      "source": [
        "pip install google-play-scraper"
      ]
    },
    {
      "cell_type": "code",
      "source": [
        "from google_play_scraper import Sort, reviews\n",
        "\n",
        "result, continuation_token = reviews(\n",
        "    'com.google.android.apps.meetings',\n",
        "    lang='id', #bahasa indonesia\n",
        "    country='id',\n",
        "    sort=Sort.MOST_RELEVANT,\n",
        "    count=2000, \n",
        ")"
      ],
      "metadata": {
        "id": "6ILcFUtc6nk3"
      },
      "execution_count": null,
      "outputs": []
    },
    {
      "cell_type": "markdown",
      "source": [
        "Export Json to CSV"
      ],
      "metadata": {
        "id": "LMSeHwWi67Z5"
      }
    },
    {
      "cell_type": "code",
      "source": [
        "import pandas as pd\n",
        "df = pd.DataFrame(result)\n",
        "df = df.drop(columns=['reviewId', 'userName', 'userImage', 'thumbsUpCount', 'reviewCreatedVersion', 'replyContent', 'repliedAt'])\n",
        "\n",
        "df.to_csv('googlemeet.csv', sep=',', index=False, header=None)\n",
        "\n",
        "df.count"
      ],
      "metadata": {
        "id": "yrXrRthS6-dg"
      },
      "execution_count": null,
      "outputs": []
    },
    {
      "cell_type": "markdown",
      "source": [
        "Read CSV"
      ],
      "metadata": {
        "id": "tD9gZjUK7Gd5"
      }
    },
    {
      "cell_type": "code",
      "source": [
        "df = pd.read_csv('datagmeet.csv', header=None)\n",
        "df.columns = ['content', 'score', 'date']\n",
        "df.to_csv('datagmeet.csv')\n",
        "df"
      ],
      "metadata": {
        "id": "q6TmtYbn7IRq"
      },
      "execution_count": null,
      "outputs": []
    },
    {
      "cell_type": "markdown",
      "source": [
        "Labelling and replace to number"
      ],
      "metadata": {
        "id": "NwDj7t7-7JWQ"
      }
    },
    {
      "cell_type": "code",
      "source": [
        "def label(score):\n",
        "  if score < 3:\n",
        "    return 'negatif'\n",
        "  else :\n",
        "    return 'positif'\n",
        "\n",
        "df['label'] = df['score'].apply(label)\n",
        "df['label'] = df['label'].replace('negatif',0)\n",
        "df['label'] = df['label'].replace('positif',1)\n",
        "\n",
        "\n",
        "df.head()"
      ],
      "metadata": {
        "id": "y2VSwYrW7VxX"
      },
      "execution_count": null,
      "outputs": []
    },
    {
      "cell_type": "markdown",
      "source": [
        "Check class number"
      ],
      "metadata": {
        "id": "PnjhfP-M7wbh"
      }
    },
    {
      "cell_type": "code",
      "source": [
        "jumlah = df['label'].value_counts()\n",
        "print(jumlah)"
      ],
      "metadata": {
        "id": "-HDV88CW7yTx"
      },
      "execution_count": null,
      "outputs": []
    },
    {
      "cell_type": "markdown",
      "source": [
        "# Data Preprocessing"
      ],
      "metadata": {
        "id": "D1MYJxkU8EyN"
      }
    },
    {
      "cell_type": "markdown",
      "source": [
        "Case Folding"
      ],
      "metadata": {
        "id": "SWQo1Cd18PVd"
      }
    },
    {
      "cell_type": "code",
      "source": [
        "import re\n",
        "import string\n",
        "def caseFolding(content):\n",
        "  content = content.lower()\n",
        "  return content\n",
        "  \n",
        "df['caseFolding'] = df['content'].apply(caseFolding)\n",
        "df[['content','caseFolding']].head()"
      ],
      "metadata": {
        "id": "f33ou_re8ETd"
      },
      "execution_count": null,
      "outputs": []
    },
    {
      "cell_type": "markdown",
      "source": [
        "Data Cleaning"
      ],
      "metadata": {
        "id": "6wBKkkYa9A0F"
      }
    },
    {
      "cell_type": "code",
      "source": [
        "import re\n",
        "import string\n",
        "def cleanData(content):\n",
        "  content = re.sub('[0-9]+', '', content)\n",
        "  content = re.sub(\"(@[A-Za-z0-9]+)|([^0-9A-Za-z \\t])|(\\w+:\\/\\/\\S+)\",\" \", content)\n",
        "  content = content.translate(str.maketrans(\"\",\"\",string.punctuation)) #menghapus tanda baca\n",
        "  content = re.sub(r\"\\d+\", \"\", content) #menghapus angka\n",
        "  content = content.strip() #menghapus space\n",
        "  content = re.sub('\\s+',' ', content)\n",
        "  return content\n",
        "\n",
        "df['cleanData'] = df['casefolding'].apply(cleanData)\n",
        "df[['content','cleanData']].head()\n",
        "df['cleanData']"
      ],
      "metadata": {
        "id": "hl-KzuhH9Ddf"
      },
      "execution_count": null,
      "outputs": []
    },
    {
      "cell_type": "markdown",
      "source": [
        "Spelling Normalization"
      ],
      "metadata": {
        "id": "pLZuu4Qz8RdI"
      }
    },
    {
      "cell_type": "code",
      "source": [
        "import csv\n",
        "import numpy as np\n",
        "\n",
        "#word dictionary\n",
        "with open('kamus.csv', newline='') as csvfile:\n",
        "    data = list(csv.reader(csvfile))\n",
        "\n",
        "data\n",
        "abbreviation_tuple, real_tuple = zip(*data)\n",
        "abbreviation_text = np.asarray(abbreviation_tuple)\n",
        "real_text =  np.asarray(real_tuple)\n",
        "\n",
        "def normalization(tweet):\n",
        "  words = tweet.split()\n",
        "  clear_words = \"\"\n",
        "  for val in words:\n",
        "    x = 0\n",
        "    for idx, data in enumerate(abbreviation_text):\n",
        "      if(val == data):\n",
        "        clear_words += real_text[idx] + ' '\n",
        "        x = 1\n",
        "        break\n",
        "    if(x == 0):\n",
        "      clear_words += val + ' '\n",
        "  return clear_words\n",
        "\n",
        "df['normalization'] = df['cleanData'].apply(normalization)\n",
        "df[['cleanData','normalization']].head()"
      ],
      "metadata": {
        "id": "xYzYYX1o8dTT"
      },
      "execution_count": null,
      "outputs": []
    },
    {
      "cell_type": "markdown",
      "source": [
        "Tokenizing"
      ],
      "metadata": {
        "id": "eNPUD0d78foA"
      }
    },
    {
      "cell_type": "code",
      "source": [
        "import nltk\n",
        "import string\n",
        "nltk.download('punkt')\n",
        "def tokenizing(content):\n",
        "  nltk_tokens = nltk.word_tokenize(content)\n",
        "  return nltk_tokens\n",
        "df['tokenizing'] = df['normalization'].apply(tokenizing)\n",
        "df[['normalization','tokenizing']].head()"
      ],
      "metadata": {
        "id": "vT-l4iAj_BDC"
      },
      "execution_count": null,
      "outputs": []
    },
    {
      "cell_type": "markdown",
      "source": [
        "Stopword **(Belum Pasti/Research)**"
      ],
      "metadata": {
        "id": "ycOOIF-R_S3T"
      }
    },
    {
      "cell_type": "code",
      "source": [
        "nltk.download('stopwords')\n",
        "from nltk.tokenize import sent_tokenize, word_tokenize\n",
        "from nltk.corpus import stopwords\n",
        "stopwords_indonesia = stopwords.words('indonesian')\n",
        "def stopwords(content):\n",
        "  tweets_clean = []\n",
        "  for word in content: \n",
        "    if (word not in stopwords_indonesia and word not in string.punctuation):\n",
        "      tweets_clean.append(word)\n",
        "  #print(tweets_clean)\n",
        "  return tweets_clean\n",
        "df['stopword'] = df['tokenizing'].apply(stopwords)\n",
        "df[['tokenizing','stopword']].head()"
      ],
      "metadata": {
        "id": "kHPaqt0j_nQG"
      },
      "execution_count": null,
      "outputs": []
    },
    {
      "cell_type": "markdown",
      "source": [
        "Stemming"
      ],
      "metadata": {
        "id": "SxW5nBPPAK42"
      }
    },
    {
      "cell_type": "code",
      "source": [
        "!pip install Sastrawi\n",
        "from Sastrawi.Stemmer.StemmerFactory import StemmerFactory\n",
        "factory = StemmerFactory()\n",
        "stemmer = factory.create_stemmer()\n",
        "\n",
        "def stemming(content):\n",
        "  tweets_stemming = []\n",
        "  for word in content:\n",
        "    stem = stemmer.stem(word)\n",
        "    tweets_stemming.append(stem)\n",
        "  return tweets_stemming\n",
        "df['stemming'] = df['stopword'].apply(stemming)\n",
        "df[['stopword','stemming']].head()"
      ],
      "metadata": {
        "id": "mr5MERd1AKbD"
      },
      "execution_count": null,
      "outputs": []
    },
    {
      "cell_type": "markdown",
      "source": [
        "# TF-IDF"
      ],
      "metadata": {
        "id": "oyglahI7AZqG"
      }
    },
    {
      "cell_type": "markdown",
      "source": [
        "TF"
      ],
      "metadata": {
        "id": "seIRCDOoAc9h"
      }
    },
    {
      "cell_type": "code",
      "source": [
        ""
      ],
      "metadata": {
        "id": "uELfAWeJAerp"
      },
      "execution_count": null,
      "outputs": []
    },
    {
      "cell_type": "markdown",
      "source": [
        "IDF"
      ],
      "metadata": {
        "id": "gcdI42UIAhG4"
      }
    },
    {
      "cell_type": "code",
      "source": [
        ""
      ],
      "metadata": {
        "id": "xDcMkejmAiDE"
      },
      "execution_count": null,
      "outputs": []
    },
    {
      "cell_type": "markdown",
      "source": [
        "TF-IDF"
      ],
      "metadata": {
        "id": "dzXH8v3eAi1M"
      }
    },
    {
      "cell_type": "code",
      "source": [
        ""
      ],
      "metadata": {
        "id": "pDrGviAQAkso"
      },
      "execution_count": null,
      "outputs": []
    },
    {
      "cell_type": "markdown",
      "source": [
        "# PSO"
      ],
      "metadata": {
        "id": "nvOTBDgRAlJf"
      }
    },
    {
      "cell_type": "code",
      "source": [
        ""
      ],
      "metadata": {
        "id": "t2tmspGHAvyv"
      },
      "execution_count": null,
      "outputs": []
    },
    {
      "cell_type": "markdown",
      "source": [
        "# Split Data"
      ],
      "metadata": {
        "id": "tj2CnpXoAwm8"
      }
    },
    {
      "cell_type": "markdown",
      "source": [
        "K-Fold Cross Validation"
      ],
      "metadata": {
        "id": "6as7A6WyA2ib"
      }
    },
    {
      "cell_type": "code",
      "source": [
        ""
      ],
      "metadata": {
        "id": "p3IBOVqQA5bj"
      },
      "execution_count": null,
      "outputs": []
    },
    {
      "cell_type": "markdown",
      "source": [
        "# SVM"
      ],
      "metadata": {
        "id": "YhPZW8WJA6QA"
      }
    },
    {
      "cell_type": "code",
      "source": [
        ""
      ],
      "metadata": {
        "id": "bKbl_gr9A-Jo"
      },
      "execution_count": null,
      "outputs": []
    },
    {
      "cell_type": "markdown",
      "source": [
        "# Confussion Matrix"
      ],
      "metadata": {
        "id": "1VaqVLEnBA0w"
      }
    },
    {
      "cell_type": "code",
      "source": [
        ""
      ],
      "metadata": {
        "id": "zj6xCyvHBDYm"
      },
      "execution_count": null,
      "outputs": []
    },
    {
      "cell_type": "markdown",
      "source": [
        "# Word CLoud"
      ],
      "metadata": {
        "id": "utm_2V_9BTOm"
      }
    },
    {
      "cell_type": "code",
      "source": [
        ""
      ],
      "metadata": {
        "id": "QaiJf1MbBapS"
      },
      "execution_count": null,
      "outputs": []
    }
  ]
}